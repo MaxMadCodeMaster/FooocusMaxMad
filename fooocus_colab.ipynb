{
 "cells": [
  {
   "cell_type": "code",
   "execution_count": null,
   "metadata": {
    "vscode": {
     "languageId": "plaintext"
    }
   },
   "outputs": [],
   "source": [
    "# 🎨 FooocusMaxMad en Google Colab\n",
    "\n",
    "Este notebook te permite ejecutar FooocusMaxMad, un generador de imágenes con IA basado en Fooocus, directamente en Google Colab.\n",
    "\n",
    "## Características:\n",
    "- Modelos personalizados incluidos\n",
    "- Actualizaciones automáticas\n",
    "- Interfaz web fácil de usar\n",
    "\n",
    "## Pasos:\n",
    "1. Ejecuta todas las celdas en orden\n",
    "2. Espera a que se complete la instalación y descarga de modelos\n",
    "3. Al final, obtendrás un enlace para acceder a la interfaz web\n",
    "\n",
    "⚠️ **Importante**: Asegúrate de seleccionar una GPU en Colab (Runtime > Change runtime type > GPU)\n"
   ]
  },
  {
   "cell_type": "code",
   "execution_count": null,
   "metadata": {
    "vscode": {
     "languageId": "plaintext"
    }
   },
   "outputs": [],
   "source": [
    "## 1. Verificar GPU y memoria disponible\n"
   ]
  },
  {
   "cell_type": "code",
   "execution_count": null,
   "metadata": {},
   "outputs": [],
   "source": [
    "!nvidia-smi\n"
   ]
  },
  {
   "cell_type": "code",
   "execution_count": null,
   "metadata": {
    "vscode": {
     "languageId": "plaintext"
    }
   },
   "outputs": [],
   "source": [
    "## 2. Instalación de dependencias\n"
   ]
  },
  {
   "cell_type": "code",
   "execution_count": null,
   "metadata": {},
   "outputs": [],
   "source": [
    "!pip install pygit2==1.15.1\n",
    "!apt-get update && apt-get install -y git-lfs\n",
    "!git lfs install\n"
   ]
  },
  {
   "cell_type": "code",
   "execution_count": null,
   "metadata": {
    "vscode": {
     "languageId": "plaintext"
    }
   },
   "outputs": [],
   "source": [
    "## 3. Clonar el repositorio FooocusMaxMad\n"
   ]
  },
  {
   "cell_type": "code",
   "execution_count": null,
   "metadata": {},
   "outputs": [],
   "source": [
    "%cd /content\n",
    "!git clone https://github.com/MaxMadCodeMaster/FooocusMaxMad.git\n",
    "%cd /content/FooocusMaxMad\n"
   ]
  },
  {
   "cell_type": "code",
   "execution_count": null,
   "metadata": {
    "vscode": {
     "languageId": "plaintext"
    }
   },
   "outputs": [],
   "source": [
    "## 4. Instalar dependencias de Python\n"
   ]
  },
  {
   "cell_type": "code",
   "execution_count": null,
   "metadata": {},
   "outputs": [],
   "source": [
    "!pip install -r requirements_versions.txt\n"
   ]
  },
  {
   "cell_type": "code",
   "execution_count": null,
   "metadata": {
    "vscode": {
     "languageId": "plaintext"
    }
   },
   "outputs": [],
   "source": [
    "## 5. Configurar rutas para Colab\n"
   ]
  },
  {
   "cell_type": "code",
   "execution_count": null,
   "metadata": {},
   "outputs": [],
   "source": [
    "import json\n",
    "\n",
    "config = {\n",
    "    \"path_checkpoints\": [\"/content/FooocusMaxMad/models/checkpoints\"],\n",
    "    \"path_loras\": [\"/content/FooocusMaxMad/models/loras\"],\n",
    "    \"path_embeddings\": \"/content/FooocusMaxMad/models/embeddings\",\n",
    "    \"path_vae_approx\": \"/content/FooocusMaxMad/models/vae_approx\",\n",
    "    \"path_vae\": \"/content/FooocusMaxMad/models/vae\",\n",
    "    \"path_upscale_models\": \"/content/FooocusMaxMad/models/upscale_models\",\n",
    "    \"path_inpaint\": \"/content/FooocusMaxMad/models/inpaint\",\n",
    "    \"path_controlnet\": \"/content/FooocusMaxMad/models/controlnet\",\n",
    "    \"path_clip_vision\": \"/content/FooocusMaxMad/models/clip_vision\",\n",
    "    \"path_fooocus_expansion\": \"/content/FooocusMaxMad/models/prompt_expansion/fooocus_expansion\",\n",
    "    \"path_wildcards\": \"/content/FooocusMaxMad/wildcards\",\n",
    "    \"path_safety_checker\": \"/content/FooocusMaxMad/models/safety_checker\",\n",
    "    \"path_sam\": \"/content/FooocusMaxMad/models/sam\",\n",
    "    \"path_outputs\": \"/content/FooocusMaxMad/outputs\"\n",
    "}\n",
    "\n",
    "with open('config.txt', 'w') as f:\n",
    "    json.dump(config, f, indent=4)\n",
    "    \n",
    "print(\"Configuración actualizada para Colab\")\n"
   ]
  },
  {
   "cell_type": "code",
   "execution_count": null,
   "metadata": {
    "vscode": {
     "languageId": "plaintext"
    }
   },
   "outputs": [],
   "source": [
    "## 6. Iniciar FooocusMaxMad\n",
    "\n",
    "Una vez que se complete la instalación, FooocusMaxMad se iniciará y te proporcionará un enlace para acceder a la interfaz web.\n"
   ]
  },
  {
   "cell_type": "code",
   "execution_count": null,
   "metadata": {},
   "outputs": [],
   "source": [
    "!python entry_with_update.py --share --always-high-vram\n"
   ]
  },
  {
   "cell_type": "code",
   "execution_count": null,
   "metadata": {
    "vscode": {
     "languageId": "plaintext"
    }
   },
   "outputs": [],
   "source": [
    "{\n",
    " \"cells\": [\n",
    "  {\n",
    "   \"cell_type\": \"markdown\",\n",
    "   \"metadata\": {},\n",
    "   \"source\": [\n",
    "    \"# 🎨 FooocusMaxMad en Google Colab\\n\",\n",
    "    \"\\n\",\n",
    "    \"Este notebook te permite ejecutar FooocusMaxMad, un generador de imágenes con IA basado en Fooocus, directamente en Google Colab.\\n\",\n",
    "    \"\\n\",\n",
    "    \"## Características:\\n\",\n",
    "    \"- Modelos personalizados incluidos\\n\",\n",
    "    \"- Actualizaciones automáticas\\n\",\n",
    "    \"- Interfaz web fácil de usar\\n\",\n",
    "    \"\\n\",\n",
    "    \"## Pasos:\\n\",\n",
    "    \"1. Ejecuta todas las celdas en orden\\n\",\n",
    "    \"2. Espera a que se complete la instalación y descarga de modelos\\n\",\n",
    "    \"3. Al final, obtendrás un enlace para acceder a la interfaz web\\n\",\n",
    "    \"\\n\",\n",
    "    \"⚠️ **Importante**: Asegúrate de seleccionar una GPU en Colab (Runtime > Change runtime type > GPU)\"\n",
    "   ]\n",
    "  },\n",
    "  {\n",
    "   \"cell_type\": \"markdown\",\n",
    "   \"metadata\": {},\n",
    "   \"source\": [\n",
    "    \"## 1. Verificar GPU y memoria disponible\"\n",
    "   ]\n",
    "  },\n",
    "  {\n",
    "   \"cell_type\": \"code\",\n",
    "   \"execution_count\": null,\n",
    "   \"metadata\": {},\n",
    "   \"outputs\": [],\n",
    "   \"source\": [\n",
    "    \"!nvidia-smi\"\n",
    "   ]\n",
    "  },\n",
    "  {\n",
    "   \"cell_type\": \"markdown\",\n",
    "   \"metadata\": {},\n",
    "   \"source\": [\n",
    "    \"## 2. Instalación de dependencias\"\n",
    "   ]\n",
    "  },\n",
    "  {\n",
    "   \"cell_type\": \"code\",\n",
    "   \"execution_count\": null,\n",
    "   \"metadata\": {},\n",
    "   \"outputs\": [],\n",
    "   \"source\": [\n",
    "    \"!pip install pygit2==1.15.1\\n\",\n",
    "    \"!apt-get update && apt-get install -y git-lfs\\n\",\n",
    "    \"!git lfs install\"\n",
    "   ]\n",
    "  },\n",
    "  {\n",
    "   \"cell_type\": \"markdown\",\n",
    "   \"metadata\": {},\n",
    "   \"source\": [\n",
    "    \"## 3. Clonar el repositorio FooocusMaxMad\"\n",
    "   ]\n",
    "  },\n",
    "  {\n",
    "   \"cell_type\": \"code\",\n",
    "   \"execution_count\": null,\n",
    "   \"metadata\": {},\n",
    "   \"outputs\": [],\n",
    "   \"source\": [\n",
    "    \"%cd /content\\n\",\n",
    "    \"!git clone https://github.com/MaxMadCodeMaster/FooocusMaxMad.git\\n\",\n",
    "    \"%cd /content/FooocusMaxMad\"\n",
    "   ]\n",
    "  },\n",
    "  {\n",
    "   \"cell_type\": \"markdown\",\n",
    "   \"metadata\": {},\n",
    "   \"source\": [\n",
    "    \"## 4. Instalar dependencias de Python\"\n",
    "   ]\n",
    "  },\n",
    "  {\n",
    "   \"cell_type\": \"code\",\n",
    "   \"execution_count\": null,\n",
    "   \"metadata\": {},\n",
    "   \"outputs\": [],\n",
    "   \"source\": [\n",
    "    \"!pip install -r requirements_versions.txt\"\n",
    "   ]\n",
    "  },\n",
    "  {\n",
    "   \"cell_type\": \"markdown\",\n",
    "   \"metadata\": {},\n",
    "   \"source\": [\n",
    "    \"## 5. Configurar rutas para Colab\"\n",
    "   ]\n",
    "  },\n",
    "  {\n",
    "   \"cell_type\": \"code\",\n",
    "   \"execution_count\": null,\n",
    "   \"metadata\": {},\n",
    "   \"outputs\": [],\n",
    "   \"source\": [\n",
    "    \"import json\\n\",\n",
    "    \"\\n\",\n",
    "    \"config = {\\n\",\n",
    "    \"    \\\"path_checkpoints\\\": [\\\"/content/FooocusMaxMad/models/checkpoints\\\"],\\n\",\n",
    "    \"    \\\"path_loras\\\": [\\\"/content/FooocusMaxMad/models/loras\\\"],\\n\",\n",
    "    \"    \\\"path_embeddings\\\": \\\"/content/FooocusMaxMad/models/embeddings\\\",\\n\",\n",
    "    \"    \\\"path_vae_approx\\\": \\\"/content/FooocusMaxMad/models/vae_approx\\\",\\n\",\n",
    "    \"    \\\"path_vae\\\": \\\"/content/FooocusMaxMad/models/vae\\\",\\n\",\n",
    "    \"    \\\"path_upscale_models\\\": \\\"/content/FooocusMaxMad/models/upscale_models\\\",\\n\",\n",
    "    \"    \\\"path_inpaint\\\": \\\"/content/FooocusMaxMad/models/inpaint\\\",\\n\",\n",
    "    \"    \\\"path_controlnet\\\": \\\"/content/FooocusMaxMad/models/controlnet\\\",\\n\",\n",
    "    \"    \\\"path_clip_vision\\\": \\\"/content/FooocusMaxMad/models/clip_vision\\\",\\n\",\n",
    "    \"    \\\"path_fooocus_expansion\\\": \\\"/content/FooocusMaxMad/models/prompt_expansion/fooocus_expansion\\\",\\n\",\n",
    "    \"    \\\"path_wildcards\\\": \\\"/content/FooocusMaxMad/wildcards\\\",\\n\",\n",
    "    \"    \\\"path_safety_checker\\\": \\\"/content/FooocusMaxMad/models/safety_checker\\\",\\n\",\n",
    "    \"    \\\"path_sam\\\": \\\"/content/FooocusMaxMad/models/sam\\\",\\n\",\n",
    "    \"    \\\"path_outputs\\\": \\\"/content/FooocusMaxMad/outputs\\\"\\n\",\n",
    "    \"}\\n\",\n",
    "    \"\\n\",\n",
    "    \"with open('config.txt', 'w') as f:\\n\",\n",
    "    \"    json.dump(config, f, indent=4)\\n\",\n",
    "    \"    \\n\",\n",
    "    \"print(\\\"Configuración actualizada para Colab\\\")\"\n",
    "   ]\n",
    "  },\n",
    "  {\n",
    "   \"cell_type\": \"markdown\",\n",
    "   \"metadata\": {},\n",
    "   \"source\": [\n",
    "    \"## 6. Iniciar FooocusMaxMad\\n\",\n",
    "    \"\\n\",\n",
    "    \"Una vez que se complete la instalación, FooocusMaxMad se iniciará y te proporcionará un enlace para acceder a la interfaz web.\"\n",
    "   ]\n",
    "  },\n",
    "  {\n",
    "   \"cell_type\": \"code\",\n",
    "   \"execution_count\": null,\n",
    "   \"metadata\": {},\n",
    "   \"outputs\": [],\n",
    "   \"source\": [\n",
    "    \"!python entry_with_update.py --share --always-high-vram\"\n",
    "   ]\n",
    "  }\n",
    " ],\n",
    " \"metadata\": {\n",
    "  \"accelerator\": \"GPU\",\n",
    "  \"colab\": {\n",
    "   \"name\": \"FooocusMaxMad.ipynb\",\n",
    "   \"provenance\": []\n",
    "  },\n",
    "  \"kernelspec\": {\n",
    "   \"display_name\": \"Python 3\",\n",
    "   \"language\": \"python\",\n",
    "   \"name\": \"python3\"\n",
    "  },\n",
    "  \"language_info\": {\n",
    "   \"codemirror_mode\": {\n",
    "    \"name\": \"ipython\",\n",
    "    \"version\": 3\n",
    "   },\n",
    "   \"file_extension\": \".py\",\n",
    "   \"mimetype\": \"text/x-python\",\n",
    "   \"name\": \"python\",\n",
    "   \"nbconvert_exporter\": \"python\",\n",
    "   \"pygments_lexer\": \"ipython3\",\n",
    "   \"version\": \"3.8.0\"\n",
    "  }\n",
    " },\n",
    " \"nbformat\": 4,\n",
    " \"nbformat_minor\": 0\n",
    "}"
   ]
  }
 ],
 "metadata": {
  "language_info": {
   "name": "python"
  }
 },
 "nbformat": 4,
 "nbformat_minor": 2
}
