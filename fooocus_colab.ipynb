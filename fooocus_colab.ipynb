{
  "cells": [
    {
      "cell_type": "raw",
      "metadata": {
        "vscode": {
          "languageId": "raw"
        }
      },
      "source": [
        "# 🎨 FooocusMaxMad en Google Colab\n",
        "\n",
        "Este notebook te permite ejecutar FooocusMaxMad, un generador de imágenes con IA basado en Fooocus, directamente en Google Colab.\n",
        "\n",
        "## Características:\n",
        "- Modelos personalizados incluidos\n",
        "- Actualizaciones automáticas\n",
        "- Interfaz web fácil de usar\n",
        "\n",
        "## Pasos:\n",
        "1. Ejecuta todas las celdas en orden\n",
        "2. Espera a que se complete la instalación y descarga de modelos\n",
        "3. Al final, obtendrás un enlace para acceder a la interfaz web\n",
        "\n",
        "⚠️ **Importante**: Asegúrate de seleccionar una GPU en Colab (Runtime > Change runtime type > GPU)\n"
      ]
    },
    {
      "cell_type": "code",
      "execution_count": null,
      "metadata": {},
      "outputs": [],
      "source": [
        "## 1. Verificar GPU y memoria disponible\n"
      ]
    },
    {
      "cell_type": "code",
      "execution_count": null,
      "metadata": {},
      "outputs": [],
      "source": [
        "import json\n",
        "\n",
        "config = {\n",
        "    \"path_checkpoints\": [\"/content/FooocusMaxMad/models/checkpoints\"],\n",
        "    \"path_loras\": [\"/content/FooocusMaxMad/models/loras\"],\n",
        "    \"path_embeddings\": \"/content/FooocusMaxMad/models/embeddings\",\n",
        "    \"path_vae_approx\": \"/content/FooocusMaxMad/models/vae_approx\",\n",
        "    \"path_vae\": \"/content/FooocusMaxMad/models/vae\",\n",
        "    \"path_upscale_models\": \"/content/FooocusMaxMad/models/upscale_models\",\n",
        "    \"path_inpaint\": \"/content/FooocusMaxMad/models/inpaint\",\n",
        "    \"path_controlnet\": \"/content/FooocusMaxMad/models/controlnet\",\n",
        "    \"path_clip_vision\": \"/content/FooocusMaxMad/models/clip_vision\",\n",
        "    \"path_fooocus_expansion\": \"/content/FooocusMaxMad/models/prompt_expansion/fooocus_expansion\",\n",
        "    \"path_wildcards\": \"/content/FooocusMaxMad/wildcards\",\n",
        "    \"path_safety_checker\": \"/content/FooocusMaxMad/models/safety_checker\",\n",
        "    \"path_sam\": \"/content/FooocusMaxMad/models/sam\",\n",
        "    \"path_outputs\": \"/content/FooocusMaxMad/outputs\"\n",
        "}\n",
        "\n",
        "with open('config.txt', 'w') as f:\n",
        "    json.dump(config, f, indent=4)\n",
        "    \n",
        "print(\"Configuración actualizada para Colab\")\n"
      ]
    },
    {
      "cell_type": "code",
      "execution_count": null,
      "metadata": {},
      "outputs": [],
      "source": [
        "import json\n",
        "\n",
        "config = {\n",
        "    \"path_checkpoints\": [\"/content/FooocusMaxMad/models/checkpoints\"],\n",
        "    \"path_loras\": [\"/content/FooocusMaxMad/models/loras\"],\n",
        "    \"path_embeddings\": \"/content/FooocusMaxMad/models/embeddings\",\n",
        "    \"path_vae_approx\": \"/content/FooocusMaxMad/models/vae_approx\",\n",
        "    \"path_vae\": \"/content/FooocusMaxMad/models/vae\",\n",
        "    \"path_upscale_models\": \"/content/FooocusMaxMad/models/upscale_models\",\n",
        "    \"path_inpaint\": \"/content/FooocusMaxMad/models/inpaint\",\n",
        "    \"path_controlnet\": \"/content/FooocusMaxMad/models/controlnet\",\n",
        "    \"path_clip_vision\": \"/content/FooocusMaxMad/models/clip_vision\",\n",
        "    \"path_fooocus_expansion\": \"/content/FooocusMaxMad/models/prompt_expansion/fooocus_expansion\",\n",
        "    \"path_wildcards\": \"/content/FooocusMaxMad/wildcards\",\n",
        "    \"path_safety_checker\": \"/content/FooocusMaxMad/models/safety_checker\",\n",
        "    \"path_sam\": \"/content/FooocusMaxMad/models/sam\",\n",
        "    \"path_outputs\": \"/content/FooocusMaxMad/outputs\"\n",
        "}\n",
        "\n",
        "with open('config.txt', 'w') as f:\n",
        "    json.dump(config, f, indent=4)\n",
        "    \n",
        "print(\"Configuración actualizada para Colab\")\n"
      ]
    },
    {
      "cell_type": "code",
      "execution_count": null,
      "metadata": {},
      "outputs": [],
      "source": [
        "import json\n",
        "\n",
        "config = {\n",
        "    \"path_checkpoints\": [\"/content/FooocusMaxMad/models/checkpoints\"],\n",
        "    \"path_loras\": [\"/content/FooocusMaxMad/models/loras\"],\n",
        "    \"path_embeddings\": \"/content/FooocusMaxMad/models/embeddings\",\n",
        "    \"path_vae_approx\": \"/content/FooocusMaxMad/models/vae_approx\",\n",
        "    \"path_vae\": \"/content/FooocusMaxMad/models/vae\",\n",
        "    \"path_upscale_models\": \"/content/FooocusMaxMad/models/upscale_models\",\n",
        "    \"path_inpaint\": \"/content/FooocusMaxMad/models/inpaint\",\n",
        "    \"path_controlnet\": \"/content/FooocusMaxMad/models/controlnet\",\n",
        "    \"path_clip_vision\": \"/content/FooocusMaxMad/models/clip_vision\",\n",
        "    \"path_fooocus_expansion\": \"/content/FooocusMaxMad/models/prompt_expansion/fooocus_expansion\",\n",
        "    \"path_wildcards\": \"/content/FooocusMaxMad/wildcards\",\n",
        "    \"path_safety_checker\": \"/content/FooocusMaxMad/models/safety_checker\",\n",
        "    \"path_sam\": \"/content/FooocusMaxMad/models/sam\",\n",
        "    \"path_outputs\": \"/content/FooocusMaxMad/outputs\"\n",
        "}\n",
        "\n",
        "with open('config.txt', 'w') as f:\n",
        "    json.dump(config, f, indent=4)\n",
        "    \n",
        "print(\"Configuración actualizada para Colab\")\n"
      ]
    },
    {
      "cell_type": "code",
      "execution_count": null,
      "metadata": {},
      "outputs": [],
      "source": [
        "import json\n",
        "\n",
        "config = {\n",
        "    \"path_checkpoints\": [\"/content/FooocusMaxMad/models/checkpoints\"],\n",
        "    \"path_loras\": [\"/content/FooocusMaxMad/models/loras\"],\n",
        "    \"path_embeddings\": \"/content/FooocusMaxMad/models/embeddings\",\n",
        "    \"path_vae_approx\": \"/content/FooocusMaxMad/models/vae_approx\",\n",
        "    \"path_vae\": \"/content/FooocusMaxMad/models/vae\",\n",
        "    \"path_upscale_models\": \"/content/FooocusMaxMad/models/upscale_models\",\n",
        "    \"path_inpaint\": \"/content/FooocusMaxMad/models/inpaint\",\n",
        "    \"path_controlnet\": \"/content/FooocusMaxMad/models/controlnet\",\n",
        "    \"path_clip_vision\": \"/content/FooocusMaxMad/models/clip_vision\",\n",
        "    \"path_fooocus_expansion\": \"/content/FooocusMaxMad/models/prompt_expansion/fooocus_expansion\",\n",
        "    \"path_wildcards\": \"/content/FooocusMaxMad/wildcards\",\n",
        "    \"path_safety_checker\": \"/content/FooocusMaxMad/models/safety_checker\",\n",
        "    \"path_sam\": \"/content/FooocusMaxMad/models/sam\",\n",
        "    \"path_outputs\": \"/content/FooocusMaxMad/outputs\"\n",
        "}\n",
        "\n",
        "with open('config.txt', 'w') as f:\n",
        "    json.dump(config, f, indent=4)\n",
        "    \n",
        "print(\"Configuración actualizada para Colab\")\n"
      ]
    },
    {
      "cell_type": "code",
      "execution_count": null,
      "metadata": {},
      "outputs": [],
      "source": [
        "import json\n",
        "\n",
        "config = {\n",
        "    \"path_checkpoints\": [\"/content/FooocusMaxMad/models/checkpoints\"],\n",
        "    \"path_loras\": [\"/content/FooocusMaxMad/models/loras\"],\n",
        "    \"path_embeddings\": \"/content/FooocusMaxMad/models/embeddings\",\n",
        "    \"path_vae_approx\": \"/content/FooocusMaxMad/models/vae_approx\",\n",
        "    \"path_vae\": \"/content/FooocusMaxMad/models/vae\",\n",
        "    \"path_upscale_models\": \"/content/FooocusMaxMad/models/upscale_models\",\n",
        "    \"path_inpaint\": \"/content/FooocusMaxMad/models/inpaint\",\n",
        "    \"path_controlnet\": \"/content/FooocusMaxMad/models/controlnet\",\n",
        "    \"path_clip_vision\": \"/content/FooocusMaxMad/models/clip_vision\",\n",
        "    \"path_fooocus_expansion\": \"/content/FooocusMaxMad/models/prompt_expansion/fooocus_expansion\",\n",
        "    \"path_wildcards\": \"/content/FooocusMaxMad/wildcards\",\n",
        "    \"path_safety_checker\": \"/content/FooocusMaxMad/models/safety_checker\",\n",
        "    \"path_sam\": \"/content/FooocusMaxMad/models/sam\",\n",
        "    \"path_outputs\": \"/content/FooocusMaxMad/outputs\"\n",
        "}\n",
        "\n",
        "with open('config.txt', 'w') as f:\n",
        "    json.dump(config, f, indent=4)\n",
        "    \n",
        "print(\"Configuración actualizada para Colab\")\n"
      ]
    },
    {
      "cell_type": "code",
      "execution_count": null,
      "metadata": {},
      "outputs": [],
      "source": [
        "import json\n",
        "\n",
        "config = {\n",
        "    \"path_checkpoints\": [\"/content/FooocusMaxMad/models/checkpoints\"],\n",
        "    \"path_loras\": [\"/content/FooocusMaxMad/models/loras\"],\n",
        "    \"path_embeddings\": \"/content/FooocusMaxMad/models/embeddings\",\n",
        "    \"path_vae_approx\": \"/content/FooocusMaxMad/models/vae_approx\",\n",
        "    \"path_vae\": \"/content/FooocusMaxMad/models/vae\",\n",
        "    \"path_upscale_models\": \"/content/FooocusMaxMad/models/upscale_models\",\n",
        "    \"path_inpaint\": \"/content/FooocusMaxMad/models/inpaint\",\n",
        "    \"path_controlnet\": \"/content/FooocusMaxMad/models/controlnet\",\n",
        "    \"path_clip_vision\": \"/content/FooocusMaxMad/models/clip_vision\",\n",
        "    \"path_fooocus_expansion\": \"/content/FooocusMaxMad/models/prompt_expansion/fooocus_expansion\",\n",
        "    \"path_wildcards\": \"/content/FooocusMaxMad/wildcards\",\n",
        "    \"path_safety_checker\": \"/content/FooocusMaxMad/models/safety_checker\",\n",
        "    \"path_sam\": \"/content/FooocusMaxMad/models/sam\",\n",
        "    \"path_outputs\": \"/content/FooocusMaxMad/outputs\"\n",
        "}\n",
        "\n",
        "with open('config.txt', 'w') as f:\n",
        "    json.dump(config, f, indent=4)\n",
        "    \n",
        "print(\"Configuración actualizada para Colab\")\n"
      ]
    },
    {
      "cell_type": "code",
      "execution_count": null,
      "metadata": {},
      "outputs": [],
      "source": [
        "import json\n",
        "\n",
        "config = {\n",
        "    \"path_checkpoints\": [\"/content/FooocusMaxMad/models/checkpoints\"],\n",
        "    \"path_loras\": [\"/content/FooocusMaxMad/models/loras\"],\n",
        "    \"path_embeddings\": \"/content/FooocusMaxMad/models/embeddings\",\n",
        "    \"path_vae_approx\": \"/content/FooocusMaxMad/models/vae_approx\",\n",
        "    \"path_vae\": \"/content/FooocusMaxMad/models/vae\",\n",
        "    \"path_upscale_models\": \"/content/FooocusMaxMad/models/upscale_models\",\n",
        "    \"path_inpaint\": \"/content/FooocusMaxMad/models/inpaint\",\n",
        "    \"path_controlnet\": \"/content/FooocusMaxMad/models/controlnet\",\n",
        "    \"path_clip_vision\": \"/content/FooocusMaxMad/models/clip_vision\",\n",
        "    \"path_fooocus_expansion\": \"/content/FooocusMaxMad/models/prompt_expansion/fooocus_expansion\",\n",
        "    \"path_wildcards\": \"/content/FooocusMaxMad/wildcards\",\n",
        "    \"path_safety_checker\": \"/content/FooocusMaxMad/models/safety_checker\",\n",
        "    \"path_sam\": \"/content/FooocusMaxMad/models/sam\",\n",
        "    \"path_outputs\": \"/content/FooocusMaxMad/outputs\"\n",
        "}\n",
        "\n",
        "with open('config.txt', 'w') as f:\n",
        "    json.dump(config, f, indent=4)\n",
        "    \n",
        "print(\"Configuración actualizada para Colab\")\n"
      ]
    },
    {
      "cell_type": "code",
      "execution_count": null,
      "metadata": {},
      "outputs": [],
      "source": [
        "import json\n",
        "\n",
        "config = {\n",
        "    \"path_checkpoints\": [\"/content/FooocusMaxMad/models/checkpoints\"],\n",
        "    \"path_loras\": [\"/content/FooocusMaxMad/models/loras\"],\n",
        "    \"path_embeddings\": \"/content/FooocusMaxMad/models/embeddings\",\n",
        "    \"path_vae_approx\": \"/content/FooocusMaxMad/models/vae_approx\",\n",
        "    \"path_vae\": \"/content/FooocusMaxMad/models/vae\",\n",
        "    \"path_upscale_models\": \"/content/FooocusMaxMad/models/upscale_models\",\n",
        "    \"path_inpaint\": \"/content/FooocusMaxMad/models/inpaint\",\n",
        "    \"path_controlnet\": \"/content/FooocusMaxMad/models/controlnet\",\n",
        "    \"path_clip_vision\": \"/content/FooocusMaxMad/models/clip_vision\",\n",
        "    \"path_fooocus_expansion\": \"/content/FooocusMaxMad/models/prompt_expansion/fooocus_expansion\",\n",
        "    \"path_wildcards\": \"/content/FooocusMaxMad/wildcards\",\n",
        "    \"path_safety_checker\": \"/content/FooocusMaxMad/models/safety_checker\",\n",
        "    \"path_sam\": \"/content/FooocusMaxMad/models/sam\",\n",
        "    \"path_outputs\": \"/content/FooocusMaxMad/outputs\"\n",
        "}\n",
        "\n",
        "with open('config.txt', 'w') as f:\n",
        "    json.dump(config, f, indent=4)\n",
        "    \n",
        "print(\"Configuración actualizada para Colab\")\n"
      ]
    },
    {
      "cell_type": "code",
      "execution_count": null,
      "metadata": {},
      "outputs": [],
      "source": [
        "import json\n",
        "\n",
        "config = {\n",
        "    \"path_checkpoints\": [\"/content/FooocusMaxMad/models/checkpoints\"],\n",
        "    \"path_loras\": [\"/content/FooocusMaxMad/models/loras\"],\n",
        "    \"path_embeddings\": \"/content/FooocusMaxMad/models/embeddings\",\n",
        "    \"path_vae_approx\": \"/content/FooocusMaxMad/models/vae_approx\",\n",
        "    \"path_vae\": \"/content/FooocusMaxMad/models/vae\",\n",
        "    \"path_upscale_models\": \"/content/FooocusMaxMad/models/upscale_models\",\n",
        "    \"path_inpaint\": \"/content/FooocusMaxMad/models/inpaint\",\n",
        "    \"path_controlnet\": \"/content/FooocusMaxMad/models/controlnet\",\n",
        "    \"path_clip_vision\": \"/content/FooocusMaxMad/models/clip_vision\",\n",
        "    \"path_fooocus_expansion\": \"/content/FooocusMaxMad/models/prompt_expansion/fooocus_expansion\",\n",
        "    \"path_wildcards\": \"/content/FooocusMaxMad/wildcards\",\n",
        "    \"path_safety_checker\": \"/content/FooocusMaxMad/models/safety_checker\",\n",
        "    \"path_sam\": \"/content/FooocusMaxMad/models/sam\",\n",
        "    \"path_outputs\": \"/content/FooocusMaxMad/outputs\"\n",
        "}\n",
        "\n",
        "with open('config.txt', 'w') as f:\n",
        "    json.dump(config, f, indent=4)\n",
        "    \n",
        "print(\"Configuración actualizada para Colab\")\n"
      ]
    },
    {
      "cell_type": "code",
      "execution_count": null,
      "metadata": {},
      "outputs": [],
      "source": [
        "import json\n",
        "\n",
        "config = {\n",
        "    \"path_checkpoints\": [\"/content/FooocusMaxMad/models/checkpoints\"],\n",
        "    \"path_loras\": [\"/content/FooocusMaxMad/models/loras\"],\n",
        "    \"path_embeddings\": \"/content/FooocusMaxMad/models/embeddings\",\n",
        "    \"path_vae_approx\": \"/content/FooocusMaxMad/models/vae_approx\",\n",
        "    \"path_vae\": \"/content/FooocusMaxMad/models/vae\",\n",
        "    \"path_upscale_models\": \"/content/FooocusMaxMad/models/upscale_models\",\n",
        "    \"path_inpaint\": \"/content/FooocusMaxMad/models/inpaint\",\n",
        "    \"path_controlnet\": \"/content/FooocusMaxMad/models/controlnet\",\n",
        "    \"path_clip_vision\": \"/content/FooocusMaxMad/models/clip_vision\",\n",
        "    \"path_fooocus_expansion\": \"/content/FooocusMaxMad/models/prompt_expansion/fooocus_expansion\",\n",
        "    \"path_wildcards\": \"/content/FooocusMaxMad/wildcards\",\n",
        "    \"path_safety_checker\": \"/content/FooocusMaxMad/models/safety_checker\",\n",
        "    \"path_sam\": \"/content/FooocusMaxMad/models/sam\",\n",
        "    \"path_outputs\": \"/content/FooocusMaxMad/outputs\"\n",
        "}\n",
        "\n",
        "with open('config.txt', 'w') as f:\n",
        "    json.dump(config, f, indent=4)\n",
        "    \n",
        "print(\"Configuración actualizada para Colab\")\n"
      ]
    },
    {
      "cell_type": "raw",
      "metadata": {
        "vscode": {
          "languageId": "raw"
        }
      },
      "source": [
        "## 1. Verificar GPU y memoria disponible\n"
      ]
    },
    {
      "cell_type": "code",
      "execution_count": null,
      "metadata": {},
      "outputs": [],
      "source": [
        "!nvidia-smi\n"
      ]
    },
    {
      "cell_type": "raw",
      "metadata": {
        "vscode": {
          "languageId": "raw"
        }
      },
      "source": [
        "## 2. Instalación de dependencias\n"
      ]
    },
    {
      "cell_type": "code",
      "execution_count": null,
      "metadata": {},
      "outputs": [],
      "source": [
        "%pip install pygit2==1.15.1\n",
        "!apt-get update && apt-get install -y git-lfs\n",
        "!git lfs install\n"
      ]
    },
    {
      "cell_type": "raw",
      "metadata": {
        "vscode": {
          "languageId": "raw"
        }
      },
      "source": [
        "## 3. Clonar el repositorio FooocusMaxMad\n"
      ]
    },
    {
      "cell_type": "code",
      "execution_count": null,
      "metadata": {},
      "outputs": [],
      "source": [
        "%cd /content\n",
        "!git clone https://github.com/MaxMadCodeMaster/FooocusMaxMad.git\n",
        "%cd /content/FooocusMaxMad\n"
      ]
    },
    {
      "cell_type": "raw",
      "metadata": {
        "vscode": {
          "languageId": "raw"
        }
      },
      "source": [
        "## 4. Instalar dependencias de Python\n"
      ]
    },
    {
      "cell_type": "code",
      "execution_count": null,
      "metadata": {},
      "outputs": [],
      "source": [
        "%pip install -r requirements_versions.txt\n"
      ]
    },
    {
      "cell_type": "raw",
      "metadata": {
        "vscode": {
          "languageId": "raw"
        }
      },
      "source": [
        "## 5. Configurar rutas para Colab\n"
      ]
    },
    {
      "cell_type": "code",
      "execution_count": null,
      "metadata": {},
      "outputs": [],
      "source": [
        "import json\n",
        "import os\n",
        "\n",
        "# Configurar rutas\n",
        "config = {\n",
        "    \"path_checkpoints\": [\"/content/FooocusMaxMad/models/checkpoints\"],\n",
        "    \"path_loras\": [\"/content/FooocusMaxMad/models/loras\"],\n",
        "    \"path_embeddings\": \"/content/FooocusMaxMad/models/embeddings\",\n",
        "    \"path_vae_approx\": \"/content/FooocusMaxMad/models/vae_approx\",\n",
        "    \"path_vae\": \"/content/FooocusMaxMad/models/vae\",\n",
        "    \"path_upscale_models\": \"/content/FooocusMaxMad/models/upscale_models\",\n",
        "    \"path_inpaint\": \"/content/FooocusMaxMad/models/inpaint\",\n",
        "    \"path_controlnet\": \"/content/FooocusMaxMad/models/controlnet\",\n",
        "    \"path_clip_vision\": \"/content/FooocusMaxMad/models/clip_vision\",\n",
        "    \"path_fooocus_expansion\": \"/content/FooocusMaxMad/models/prompt_expansion/fooocus_expansion\",\n",
        "    \"path_wildcards\": \"/content/FooocusMaxMad/wildcards\",\n",
        "    \"path_safety_checker\": \"/content/FooocusMaxMad/models/safety_checker\",\n",
        "    \"path_sam\": \"/content/FooocusMaxMad/models/sam\",\n",
        "    \"path_outputs\": \"/content/FooocusMaxMad/outputs\"\n",
        "}\n",
        "\n",
        "with open('config.txt', 'w') as f:\n",
        "    json.dump(config, f, indent=4)\n",
        "\n",
        "# Descargar modelos específicos que faltan\n",
        "print(\"Descargando modelos personalizados...\")\n",
        "\n",
        "# Verificar si el modelo NSFW existe\n",
        "nsfw_model_path = \"/content/FooocusMaxMad/models/checkpoints/Juggernaut-X-RunDiffusion-NSFW.safetensors\"\n",
        "if not os.path.exists(nsfw_model_path):\n",
        "    print(\"Descargando modelo NSFW...\")\n",
        "    !wget -O \"{nsfw_model_path}\" \"https://civitai.com/api/download/models/240840\"\n",
        "\n",
        "print(\"Configuración actualizada para Colab\")\n",
        "print(\"Modelos disponibles:\")\n",
        "!ls -la /content/FooocusMaxMad/models/checkpoints/\n"
      ]
    },
    {
      "cell_type": "raw",
      "metadata": {
        "vscode": {
          "languageId": "raw"
        }
      },
      "source": [
        "## 6. Iniciar FooocusMaxMad\n",
        "\n",
        "Una vez que se complete la instalación, FooocusMaxMad se iniciará y te proporcionará un enlace para acceder a la interfaz web.\n"
      ]
    },
    {
      "cell_type": "code",
      "execution_count": null,
      "metadata": {},
      "outputs": [],
      "source": [
        "!python entry_with_update.py --share --always-high-vram\n"
      ]
    }
  ],
  "metadata": {
    "language_info": {
      "name": "python"
    }
  },
  "nbformat": 4,
  "nbformat_minor": 2
}
